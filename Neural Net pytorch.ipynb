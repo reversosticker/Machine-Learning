{
 "cells": [
  {
   "cell_type": "code",
   "execution_count": 2,
   "metadata": {},
   "outputs": [],
   "source": [
    "import torch\n",
    "import torch.nn as nn\n",
    "import torchvision\n",
    "import torchvision.transforms as transforms"
   ]
  },
  {
   "cell_type": "code",
   "execution_count": 3,
   "metadata": {},
   "outputs": [],
   "source": [
    "device = torch.device('cuda' if torch.cuda.is_available() else 'cpu')"
   ]
  },
  {
   "cell_type": "code",
   "execution_count": 11,
   "metadata": {},
   "outputs": [],
   "source": [
    "input_size = 784\n",
    "hidden_size = 500\n",
    "num_classes=10\n",
    "num_epochs = 5\n",
    "batch_size =100\n",
    "learning_rate = 0.001"
   ]
  },
  {
   "cell_type": "code",
   "execution_count": 12,
   "metadata": {},
   "outputs": [],
   "source": [
    "train_dateset = torchvision.datasets.MNIST(root='data',train=True,transform=transforms.ToTensor(),download=True)"
   ]
  },
  {
   "cell_type": "code",
   "execution_count": 13,
   "metadata": {},
   "outputs": [],
   "source": [
    "test_dataset = torchvision.datasets.MNIST(root='data',train=False,transform=transforms.ToTensor())"
   ]
  },
  {
   "cell_type": "code",
   "execution_count": 16,
   "metadata": {},
   "outputs": [],
   "source": [
    "train_loader = torch.utils.data.DataLoader(dataset=train_dateset,batch_size=batch_size,shuffle=True)\n",
    "test_loader = torch.utils.data.DataLoader(dataset=test_dataset,batch_size=batch_size,shuffle=False)"
   ]
  },
  {
   "cell_type": "code",
   "execution_count": 20,
   "metadata": {},
   "outputs": [],
   "source": [
    "class NeuralNet(nn.Module):\n",
    "    def __init__(self,input_size,hidden_size,num_classes):\n",
    "        super(NeuralNet,self).__init__()\n",
    "        self.fc1 = nn.Linear(input_size,hidden_size)\n",
    "        self.relu=nn.ReLU()\n",
    "        self.fc2=nn.Linear(hidden_size,num_classes)\n",
    "    def forward(self,x):\n",
    "        out=self.fc1(x)\n",
    "        out=self.relu(out)\n",
    "        out=self.fc2(out)\n",
    "        return out"
   ]
  },
  {
   "cell_type": "code",
   "execution_count": 22,
   "metadata": {},
   "outputs": [],
   "source": [
    "model = NeuralNet(input_size,hidden_size,num_classes).to(device)\n",
    "criterion = nn.CrossEntropyLoss()\n",
    "optimizer = torch.optim.Adam(model.parameters(),lr=learning_rate)"
   ]
  },
  {
   "cell_type": "code",
   "execution_count": 25,
   "metadata": {},
   "outputs": [
    {
     "name": "stdout",
     "output_type": "stream",
     "text": [
      "Epoch [1/5], Step [100/600], Loss: 0.3384\n",
      "Epoch [1/5], Step [200/600], Loss: 0.3259\n",
      "Epoch [1/5], Step [300/600], Loss: 0.2604\n",
      "Epoch [1/5], Step [400/600], Loss: 0.3066\n",
      "Epoch [1/5], Step [500/600], Loss: 0.1621\n",
      "Epoch [1/5], Step [600/600], Loss: 0.1186\n",
      "Epoch [2/5], Step [100/600], Loss: 0.0610\n",
      "Epoch [2/5], Step [200/600], Loss: 0.1641\n",
      "Epoch [2/5], Step [300/600], Loss: 0.1507\n",
      "Epoch [2/5], Step [400/600], Loss: 0.1081\n",
      "Epoch [2/5], Step [500/600], Loss: 0.0958\n",
      "Epoch [2/5], Step [600/600], Loss: 0.0677\n",
      "Epoch [3/5], Step [100/600], Loss: 0.0754\n",
      "Epoch [3/5], Step [200/600], Loss: 0.0391\n",
      "Epoch [3/5], Step [300/600], Loss: 0.0740\n",
      "Epoch [3/5], Step [400/600], Loss: 0.0908\n",
      "Epoch [3/5], Step [500/600], Loss: 0.0608\n",
      "Epoch [3/5], Step [600/600], Loss: 0.0427\n",
      "Epoch [4/5], Step [100/600], Loss: 0.0428\n",
      "Epoch [4/5], Step [200/600], Loss: 0.0522\n",
      "Epoch [4/5], Step [300/600], Loss: 0.0185\n",
      "Epoch [4/5], Step [400/600], Loss: 0.0271\n",
      "Epoch [4/5], Step [500/600], Loss: 0.1005\n",
      "Epoch [4/5], Step [600/600], Loss: 0.0785\n",
      "Epoch [5/5], Step [100/600], Loss: 0.0527\n",
      "Epoch [5/5], Step [200/600], Loss: 0.0312\n",
      "Epoch [5/5], Step [300/600], Loss: 0.0108\n",
      "Epoch [5/5], Step [400/600], Loss: 0.1391\n",
      "Epoch [5/5], Step [500/600], Loss: 0.0343\n",
      "Epoch [5/5], Step [600/600], Loss: 0.0437\n"
     ]
    }
   ],
   "source": [
    "total_step = len(train_loader)\n",
    "for epoch in range(num_epochs):\n",
    "    for i,(images,labels) in enumerate(train_loader):\n",
    "        images = images.reshape(-1,28*28).to(device)\n",
    "        labels=labels.to(device)\n",
    "        #forward pass\n",
    "        outputs = model(images)\n",
    "        loss=criterion(outputs,labels)\n",
    "        #backward pass\n",
    "        optimizer.zero_grad()\n",
    "        loss.backward()\n",
    "        optimizer.step()\n",
    "        \n",
    "        \n",
    "        \n",
    "        if (i+1)%100 == 0:\n",
    "            print ('Epoch [{}/{}], Step [{}/{}], Loss: {:.4f}'.format(epoch+1, num_epochs, i+1, total_step, loss.item()))\n",
    "                    "
   ]
  },
  {
   "cell_type": "code",
   "execution_count": 33,
   "metadata": {},
   "outputs": [
    {
     "name": "stdout",
     "output_type": "stream",
     "text": [
      "Accuracy of the network on the 10000 test images: 9.78 %\n"
     ]
    }
   ],
   "source": [
    "with torch.no_grad():\n",
    "    correct=0\n",
    "    total=0\n",
    "    for images, label in test_loader:\n",
    "        images= images.reshape(-1,28*28).to(device)\n",
    "        labels=labels.to(device)\n",
    "        output=model(images)\n",
    "        _,predicated = torch.max(output.data,1)\n",
    "        total+=label.size(0)\n",
    "        correct+=(predicated==labels).sum().item()\n",
    "    print('Accuracy of the network on the 10000 test images: {} %'.format(100 * correct / total))\n",
    "torch.save(model.state_dict(),'model.ckpt')"
   ]
  },
  {
   "cell_type": "code",
   "execution_count": null,
   "metadata": {},
   "outputs": [],
   "source": []
  }
 ],
 "metadata": {
  "kernelspec": {
   "display_name": "Python 3",
   "language": "python",
   "name": "python3"
  },
  "language_info": {
   "codemirror_mode": {
    "name": "ipython",
    "version": 3
   },
   "file_extension": ".py",
   "mimetype": "text/x-python",
   "name": "python",
   "nbconvert_exporter": "python",
   "pygments_lexer": "ipython3",
   "version": "3.5.2"
  }
 },
 "nbformat": 4,
 "nbformat_minor": 2
}
